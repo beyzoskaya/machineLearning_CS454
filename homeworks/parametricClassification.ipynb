{
  "nbformat": 4,
  "nbformat_minor": 0,
  "metadata": {
    "colab": {
      "provenance": [],
      "gpuType": "T4",
      "authorship_tag": "ABX9TyMvhyLzICOBZKg1eZ3+WYEe",
      "include_colab_link": true
    },
    "kernelspec": {
      "name": "python3",
      "display_name": "Python 3"
    },
    "language_info": {
      "name": "python"
    },
    "accelerator": "GPU"
  },
  "cells": [
    {
      "cell_type": "markdown",
      "metadata": {
        "id": "view-in-github",
        "colab_type": "text"
      },
      "source": [
        "<a href=\"https://colab.research.google.com/github/beyzoskaya/machineLearning_CS454/blob/main/homeworks/parametricClassification.ipynb\" target=\"_parent\"><img src=\"https://colab.research.google.com/assets/colab-badge.svg\" alt=\"Open In Colab\"/></a>"
      ]
    },
    {
      "cell_type": "code",
      "execution_count": 1,
      "metadata": {
        "id": "46_a7ObjEP0G"
      },
      "outputs": [],
      "source": [
        "import numpy as np\n",
        "import pandas as pd"
      ]
    },
    {
      "cell_type": "code",
      "source": [
        "train_data = pd.read_csv(\"/content/data/training.csv\", header=None,names=['Age', 'Class'])\n",
        "test_data = pd.read_csv(\"/content/data/testing.csv\", header=None,names=['Age', 'Class'])"
      ],
      "metadata": {
        "id": "2MsbqmatEscq"
      },
      "execution_count": 2,
      "outputs": []
    },
    {
      "cell_type": "code",
      "source": [
        "train_data.head()"
      ],
      "metadata": {
        "colab": {
          "base_uri": "https://localhost:8080/",
          "height": 206
        },
        "id": "krPZsW8jE3mB",
        "outputId": "875ac1d0-3230-4a99-e922-0f6501afb5fb"
      },
      "execution_count": 3,
      "outputs": [
        {
          "output_type": "execute_result",
          "data": {
            "text/plain": [
              "         Age  Class\n",
              "0  47.363793      1\n",
              "1  45.367702      1\n",
              "2  43.694695      1\n",
              "3  37.914666      1\n",
              "4  44.416403      1"
            ],
            "text/html": [
              "\n",
              "  <div id=\"df-f578c993-2f3e-4b28-83b5-434413cd2b4b\" class=\"colab-df-container\">\n",
              "    <div>\n",
              "<style scoped>\n",
              "    .dataframe tbody tr th:only-of-type {\n",
              "        vertical-align: middle;\n",
              "    }\n",
              "\n",
              "    .dataframe tbody tr th {\n",
              "        vertical-align: top;\n",
              "    }\n",
              "\n",
              "    .dataframe thead th {\n",
              "        text-align: right;\n",
              "    }\n",
              "</style>\n",
              "<table border=\"1\" class=\"dataframe\">\n",
              "  <thead>\n",
              "    <tr style=\"text-align: right;\">\n",
              "      <th></th>\n",
              "      <th>Age</th>\n",
              "      <th>Class</th>\n",
              "    </tr>\n",
              "  </thead>\n",
              "  <tbody>\n",
              "    <tr>\n",
              "      <th>0</th>\n",
              "      <td>47.363793</td>\n",
              "      <td>1</td>\n",
              "    </tr>\n",
              "    <tr>\n",
              "      <th>1</th>\n",
              "      <td>45.367702</td>\n",
              "      <td>1</td>\n",
              "    </tr>\n",
              "    <tr>\n",
              "      <th>2</th>\n",
              "      <td>43.694695</td>\n",
              "      <td>1</td>\n",
              "    </tr>\n",
              "    <tr>\n",
              "      <th>3</th>\n",
              "      <td>37.914666</td>\n",
              "      <td>1</td>\n",
              "    </tr>\n",
              "    <tr>\n",
              "      <th>4</th>\n",
              "      <td>44.416403</td>\n",
              "      <td>1</td>\n",
              "    </tr>\n",
              "  </tbody>\n",
              "</table>\n",
              "</div>\n",
              "    <div class=\"colab-df-buttons\">\n",
              "\n",
              "  <div class=\"colab-df-container\">\n",
              "    <button class=\"colab-df-convert\" onclick=\"convertToInteractive('df-f578c993-2f3e-4b28-83b5-434413cd2b4b')\"\n",
              "            title=\"Convert this dataframe to an interactive table.\"\n",
              "            style=\"display:none;\">\n",
              "\n",
              "  <svg xmlns=\"http://www.w3.org/2000/svg\" height=\"24px\" viewBox=\"0 -960 960 960\">\n",
              "    <path d=\"M120-120v-720h720v720H120Zm60-500h600v-160H180v160Zm220 220h160v-160H400v160Zm0 220h160v-160H400v160ZM180-400h160v-160H180v160Zm440 0h160v-160H620v160ZM180-180h160v-160H180v160Zm440 0h160v-160H620v160Z\"/>\n",
              "  </svg>\n",
              "    </button>\n",
              "\n",
              "  <style>\n",
              "    .colab-df-container {\n",
              "      display:flex;\n",
              "      gap: 12px;\n",
              "    }\n",
              "\n",
              "    .colab-df-convert {\n",
              "      background-color: #E8F0FE;\n",
              "      border: none;\n",
              "      border-radius: 50%;\n",
              "      cursor: pointer;\n",
              "      display: none;\n",
              "      fill: #1967D2;\n",
              "      height: 32px;\n",
              "      padding: 0 0 0 0;\n",
              "      width: 32px;\n",
              "    }\n",
              "\n",
              "    .colab-df-convert:hover {\n",
              "      background-color: #E2EBFA;\n",
              "      box-shadow: 0px 1px 2px rgba(60, 64, 67, 0.3), 0px 1px 3px 1px rgba(60, 64, 67, 0.15);\n",
              "      fill: #174EA6;\n",
              "    }\n",
              "\n",
              "    .colab-df-buttons div {\n",
              "      margin-bottom: 4px;\n",
              "    }\n",
              "\n",
              "    [theme=dark] .colab-df-convert {\n",
              "      background-color: #3B4455;\n",
              "      fill: #D2E3FC;\n",
              "    }\n",
              "\n",
              "    [theme=dark] .colab-df-convert:hover {\n",
              "      background-color: #434B5C;\n",
              "      box-shadow: 0px 1px 3px 1px rgba(0, 0, 0, 0.15);\n",
              "      filter: drop-shadow(0px 1px 2px rgba(0, 0, 0, 0.3));\n",
              "      fill: #FFFFFF;\n",
              "    }\n",
              "  </style>\n",
              "\n",
              "    <script>\n",
              "      const buttonEl =\n",
              "        document.querySelector('#df-f578c993-2f3e-4b28-83b5-434413cd2b4b button.colab-df-convert');\n",
              "      buttonEl.style.display =\n",
              "        google.colab.kernel.accessAllowed ? 'block' : 'none';\n",
              "\n",
              "      async function convertToInteractive(key) {\n",
              "        const element = document.querySelector('#df-f578c993-2f3e-4b28-83b5-434413cd2b4b');\n",
              "        const dataTable =\n",
              "          await google.colab.kernel.invokeFunction('convertToInteractive',\n",
              "                                                    [key], {});\n",
              "        if (!dataTable) return;\n",
              "\n",
              "        const docLinkHtml = 'Like what you see? Visit the ' +\n",
              "          '<a target=\"_blank\" href=https://colab.research.google.com/notebooks/data_table.ipynb>data table notebook</a>'\n",
              "          + ' to learn more about interactive tables.';\n",
              "        element.innerHTML = '';\n",
              "        dataTable['output_type'] = 'display_data';\n",
              "        await google.colab.output.renderOutput(dataTable, element);\n",
              "        const docLink = document.createElement('div');\n",
              "        docLink.innerHTML = docLinkHtml;\n",
              "        element.appendChild(docLink);\n",
              "      }\n",
              "    </script>\n",
              "  </div>\n",
              "\n",
              "\n",
              "<div id=\"df-dcc7d2f1-7c14-4dec-8bda-bfde43b32b2b\">\n",
              "  <button class=\"colab-df-quickchart\" onclick=\"quickchart('df-dcc7d2f1-7c14-4dec-8bda-bfde43b32b2b')\"\n",
              "            title=\"Suggest charts.\"\n",
              "            style=\"display:none;\">\n",
              "\n",
              "<svg xmlns=\"http://www.w3.org/2000/svg\" height=\"24px\"viewBox=\"0 0 24 24\"\n",
              "     width=\"24px\">\n",
              "    <g>\n",
              "        <path d=\"M19 3H5c-1.1 0-2 .9-2 2v14c0 1.1.9 2 2 2h14c1.1 0 2-.9 2-2V5c0-1.1-.9-2-2-2zM9 17H7v-7h2v7zm4 0h-2V7h2v10zm4 0h-2v-4h2v4z\"/>\n",
              "    </g>\n",
              "</svg>\n",
              "  </button>\n",
              "\n",
              "<style>\n",
              "  .colab-df-quickchart {\n",
              "      --bg-color: #E8F0FE;\n",
              "      --fill-color: #1967D2;\n",
              "      --hover-bg-color: #E2EBFA;\n",
              "      --hover-fill-color: #174EA6;\n",
              "      --disabled-fill-color: #AAA;\n",
              "      --disabled-bg-color: #DDD;\n",
              "  }\n",
              "\n",
              "  [theme=dark] .colab-df-quickchart {\n",
              "      --bg-color: #3B4455;\n",
              "      --fill-color: #D2E3FC;\n",
              "      --hover-bg-color: #434B5C;\n",
              "      --hover-fill-color: #FFFFFF;\n",
              "      --disabled-bg-color: #3B4455;\n",
              "      --disabled-fill-color: #666;\n",
              "  }\n",
              "\n",
              "  .colab-df-quickchart {\n",
              "    background-color: var(--bg-color);\n",
              "    border: none;\n",
              "    border-radius: 50%;\n",
              "    cursor: pointer;\n",
              "    display: none;\n",
              "    fill: var(--fill-color);\n",
              "    height: 32px;\n",
              "    padding: 0;\n",
              "    width: 32px;\n",
              "  }\n",
              "\n",
              "  .colab-df-quickchart:hover {\n",
              "    background-color: var(--hover-bg-color);\n",
              "    box-shadow: 0 1px 2px rgba(60, 64, 67, 0.3), 0 1px 3px 1px rgba(60, 64, 67, 0.15);\n",
              "    fill: var(--button-hover-fill-color);\n",
              "  }\n",
              "\n",
              "  .colab-df-quickchart-complete:disabled,\n",
              "  .colab-df-quickchart-complete:disabled:hover {\n",
              "    background-color: var(--disabled-bg-color);\n",
              "    fill: var(--disabled-fill-color);\n",
              "    box-shadow: none;\n",
              "  }\n",
              "\n",
              "  .colab-df-spinner {\n",
              "    border: 2px solid var(--fill-color);\n",
              "    border-color: transparent;\n",
              "    border-bottom-color: var(--fill-color);\n",
              "    animation:\n",
              "      spin 1s steps(1) infinite;\n",
              "  }\n",
              "\n",
              "  @keyframes spin {\n",
              "    0% {\n",
              "      border-color: transparent;\n",
              "      border-bottom-color: var(--fill-color);\n",
              "      border-left-color: var(--fill-color);\n",
              "    }\n",
              "    20% {\n",
              "      border-color: transparent;\n",
              "      border-left-color: var(--fill-color);\n",
              "      border-top-color: var(--fill-color);\n",
              "    }\n",
              "    30% {\n",
              "      border-color: transparent;\n",
              "      border-left-color: var(--fill-color);\n",
              "      border-top-color: var(--fill-color);\n",
              "      border-right-color: var(--fill-color);\n",
              "    }\n",
              "    40% {\n",
              "      border-color: transparent;\n",
              "      border-right-color: var(--fill-color);\n",
              "      border-top-color: var(--fill-color);\n",
              "    }\n",
              "    60% {\n",
              "      border-color: transparent;\n",
              "      border-right-color: var(--fill-color);\n",
              "    }\n",
              "    80% {\n",
              "      border-color: transparent;\n",
              "      border-right-color: var(--fill-color);\n",
              "      border-bottom-color: var(--fill-color);\n",
              "    }\n",
              "    90% {\n",
              "      border-color: transparent;\n",
              "      border-bottom-color: var(--fill-color);\n",
              "    }\n",
              "  }\n",
              "</style>\n",
              "\n",
              "  <script>\n",
              "    async function quickchart(key) {\n",
              "      const quickchartButtonEl =\n",
              "        document.querySelector('#' + key + ' button');\n",
              "      quickchartButtonEl.disabled = true;  // To prevent multiple clicks.\n",
              "      quickchartButtonEl.classList.add('colab-df-spinner');\n",
              "      try {\n",
              "        const charts = await google.colab.kernel.invokeFunction(\n",
              "            'suggestCharts', [key], {});\n",
              "      } catch (error) {\n",
              "        console.error('Error during call to suggestCharts:', error);\n",
              "      }\n",
              "      quickchartButtonEl.classList.remove('colab-df-spinner');\n",
              "      quickchartButtonEl.classList.add('colab-df-quickchart-complete');\n",
              "    }\n",
              "    (() => {\n",
              "      let quickchartButtonEl =\n",
              "        document.querySelector('#df-dcc7d2f1-7c14-4dec-8bda-bfde43b32b2b button');\n",
              "      quickchartButtonEl.style.display =\n",
              "        google.colab.kernel.accessAllowed ? 'block' : 'none';\n",
              "    })();\n",
              "  </script>\n",
              "</div>\n",
              "    </div>\n",
              "  </div>\n"
            ]
          },
          "metadata": {},
          "execution_count": 3
        }
      ]
    },
    {
      "cell_type": "code",
      "source": [
        "test_data.head()"
      ],
      "metadata": {
        "colab": {
          "base_uri": "https://localhost:8080/",
          "height": 206
        },
        "id": "tN5HufjSFDZt",
        "outputId": "42634bc3-317b-4722-ba1e-bc2b5efd830a"
      },
      "execution_count": 4,
      "outputs": [
        {
          "output_type": "execute_result",
          "data": {
            "text/plain": [
              "         Age  Class\n",
              "0  37.151208      1\n",
              "1  46.497973      1\n",
              "2  43.480627      1\n",
              "3  41.482369      1\n",
              "4  48.234631      1"
            ],
            "text/html": [
              "\n",
              "  <div id=\"df-39012d0b-5383-4e9c-b4cd-06cfcd823c68\" class=\"colab-df-container\">\n",
              "    <div>\n",
              "<style scoped>\n",
              "    .dataframe tbody tr th:only-of-type {\n",
              "        vertical-align: middle;\n",
              "    }\n",
              "\n",
              "    .dataframe tbody tr th {\n",
              "        vertical-align: top;\n",
              "    }\n",
              "\n",
              "    .dataframe thead th {\n",
              "        text-align: right;\n",
              "    }\n",
              "</style>\n",
              "<table border=\"1\" class=\"dataframe\">\n",
              "  <thead>\n",
              "    <tr style=\"text-align: right;\">\n",
              "      <th></th>\n",
              "      <th>Age</th>\n",
              "      <th>Class</th>\n",
              "    </tr>\n",
              "  </thead>\n",
              "  <tbody>\n",
              "    <tr>\n",
              "      <th>0</th>\n",
              "      <td>37.151208</td>\n",
              "      <td>1</td>\n",
              "    </tr>\n",
              "    <tr>\n",
              "      <th>1</th>\n",
              "      <td>46.497973</td>\n",
              "      <td>1</td>\n",
              "    </tr>\n",
              "    <tr>\n",
              "      <th>2</th>\n",
              "      <td>43.480627</td>\n",
              "      <td>1</td>\n",
              "    </tr>\n",
              "    <tr>\n",
              "      <th>3</th>\n",
              "      <td>41.482369</td>\n",
              "      <td>1</td>\n",
              "    </tr>\n",
              "    <tr>\n",
              "      <th>4</th>\n",
              "      <td>48.234631</td>\n",
              "      <td>1</td>\n",
              "    </tr>\n",
              "  </tbody>\n",
              "</table>\n",
              "</div>\n",
              "    <div class=\"colab-df-buttons\">\n",
              "\n",
              "  <div class=\"colab-df-container\">\n",
              "    <button class=\"colab-df-convert\" onclick=\"convertToInteractive('df-39012d0b-5383-4e9c-b4cd-06cfcd823c68')\"\n",
              "            title=\"Convert this dataframe to an interactive table.\"\n",
              "            style=\"display:none;\">\n",
              "\n",
              "  <svg xmlns=\"http://www.w3.org/2000/svg\" height=\"24px\" viewBox=\"0 -960 960 960\">\n",
              "    <path d=\"M120-120v-720h720v720H120Zm60-500h600v-160H180v160Zm220 220h160v-160H400v160Zm0 220h160v-160H400v160ZM180-400h160v-160H180v160Zm440 0h160v-160H620v160ZM180-180h160v-160H180v160Zm440 0h160v-160H620v160Z\"/>\n",
              "  </svg>\n",
              "    </button>\n",
              "\n",
              "  <style>\n",
              "    .colab-df-container {\n",
              "      display:flex;\n",
              "      gap: 12px;\n",
              "    }\n",
              "\n",
              "    .colab-df-convert {\n",
              "      background-color: #E8F0FE;\n",
              "      border: none;\n",
              "      border-radius: 50%;\n",
              "      cursor: pointer;\n",
              "      display: none;\n",
              "      fill: #1967D2;\n",
              "      height: 32px;\n",
              "      padding: 0 0 0 0;\n",
              "      width: 32px;\n",
              "    }\n",
              "\n",
              "    .colab-df-convert:hover {\n",
              "      background-color: #E2EBFA;\n",
              "      box-shadow: 0px 1px 2px rgba(60, 64, 67, 0.3), 0px 1px 3px 1px rgba(60, 64, 67, 0.15);\n",
              "      fill: #174EA6;\n",
              "    }\n",
              "\n",
              "    .colab-df-buttons div {\n",
              "      margin-bottom: 4px;\n",
              "    }\n",
              "\n",
              "    [theme=dark] .colab-df-convert {\n",
              "      background-color: #3B4455;\n",
              "      fill: #D2E3FC;\n",
              "    }\n",
              "\n",
              "    [theme=dark] .colab-df-convert:hover {\n",
              "      background-color: #434B5C;\n",
              "      box-shadow: 0px 1px 3px 1px rgba(0, 0, 0, 0.15);\n",
              "      filter: drop-shadow(0px 1px 2px rgba(0, 0, 0, 0.3));\n",
              "      fill: #FFFFFF;\n",
              "    }\n",
              "  </style>\n",
              "\n",
              "    <script>\n",
              "      const buttonEl =\n",
              "        document.querySelector('#df-39012d0b-5383-4e9c-b4cd-06cfcd823c68 button.colab-df-convert');\n",
              "      buttonEl.style.display =\n",
              "        google.colab.kernel.accessAllowed ? 'block' : 'none';\n",
              "\n",
              "      async function convertToInteractive(key) {\n",
              "        const element = document.querySelector('#df-39012d0b-5383-4e9c-b4cd-06cfcd823c68');\n",
              "        const dataTable =\n",
              "          await google.colab.kernel.invokeFunction('convertToInteractive',\n",
              "                                                    [key], {});\n",
              "        if (!dataTable) return;\n",
              "\n",
              "        const docLinkHtml = 'Like what you see? Visit the ' +\n",
              "          '<a target=\"_blank\" href=https://colab.research.google.com/notebooks/data_table.ipynb>data table notebook</a>'\n",
              "          + ' to learn more about interactive tables.';\n",
              "        element.innerHTML = '';\n",
              "        dataTable['output_type'] = 'display_data';\n",
              "        await google.colab.output.renderOutput(dataTable, element);\n",
              "        const docLink = document.createElement('div');\n",
              "        docLink.innerHTML = docLinkHtml;\n",
              "        element.appendChild(docLink);\n",
              "      }\n",
              "    </script>\n",
              "  </div>\n",
              "\n",
              "\n",
              "<div id=\"df-3d2c3bd9-4136-4162-ab70-e942495dd359\">\n",
              "  <button class=\"colab-df-quickchart\" onclick=\"quickchart('df-3d2c3bd9-4136-4162-ab70-e942495dd359')\"\n",
              "            title=\"Suggest charts.\"\n",
              "            style=\"display:none;\">\n",
              "\n",
              "<svg xmlns=\"http://www.w3.org/2000/svg\" height=\"24px\"viewBox=\"0 0 24 24\"\n",
              "     width=\"24px\">\n",
              "    <g>\n",
              "        <path d=\"M19 3H5c-1.1 0-2 .9-2 2v14c0 1.1.9 2 2 2h14c1.1 0 2-.9 2-2V5c0-1.1-.9-2-2-2zM9 17H7v-7h2v7zm4 0h-2V7h2v10zm4 0h-2v-4h2v4z\"/>\n",
              "    </g>\n",
              "</svg>\n",
              "  </button>\n",
              "\n",
              "<style>\n",
              "  .colab-df-quickchart {\n",
              "      --bg-color: #E8F0FE;\n",
              "      --fill-color: #1967D2;\n",
              "      --hover-bg-color: #E2EBFA;\n",
              "      --hover-fill-color: #174EA6;\n",
              "      --disabled-fill-color: #AAA;\n",
              "      --disabled-bg-color: #DDD;\n",
              "  }\n",
              "\n",
              "  [theme=dark] .colab-df-quickchart {\n",
              "      --bg-color: #3B4455;\n",
              "      --fill-color: #D2E3FC;\n",
              "      --hover-bg-color: #434B5C;\n",
              "      --hover-fill-color: #FFFFFF;\n",
              "      --disabled-bg-color: #3B4455;\n",
              "      --disabled-fill-color: #666;\n",
              "  }\n",
              "\n",
              "  .colab-df-quickchart {\n",
              "    background-color: var(--bg-color);\n",
              "    border: none;\n",
              "    border-radius: 50%;\n",
              "    cursor: pointer;\n",
              "    display: none;\n",
              "    fill: var(--fill-color);\n",
              "    height: 32px;\n",
              "    padding: 0;\n",
              "    width: 32px;\n",
              "  }\n",
              "\n",
              "  .colab-df-quickchart:hover {\n",
              "    background-color: var(--hover-bg-color);\n",
              "    box-shadow: 0 1px 2px rgba(60, 64, 67, 0.3), 0 1px 3px 1px rgba(60, 64, 67, 0.15);\n",
              "    fill: var(--button-hover-fill-color);\n",
              "  }\n",
              "\n",
              "  .colab-df-quickchart-complete:disabled,\n",
              "  .colab-df-quickchart-complete:disabled:hover {\n",
              "    background-color: var(--disabled-bg-color);\n",
              "    fill: var(--disabled-fill-color);\n",
              "    box-shadow: none;\n",
              "  }\n",
              "\n",
              "  .colab-df-spinner {\n",
              "    border: 2px solid var(--fill-color);\n",
              "    border-color: transparent;\n",
              "    border-bottom-color: var(--fill-color);\n",
              "    animation:\n",
              "      spin 1s steps(1) infinite;\n",
              "  }\n",
              "\n",
              "  @keyframes spin {\n",
              "    0% {\n",
              "      border-color: transparent;\n",
              "      border-bottom-color: var(--fill-color);\n",
              "      border-left-color: var(--fill-color);\n",
              "    }\n",
              "    20% {\n",
              "      border-color: transparent;\n",
              "      border-left-color: var(--fill-color);\n",
              "      border-top-color: var(--fill-color);\n",
              "    }\n",
              "    30% {\n",
              "      border-color: transparent;\n",
              "      border-left-color: var(--fill-color);\n",
              "      border-top-color: var(--fill-color);\n",
              "      border-right-color: var(--fill-color);\n",
              "    }\n",
              "    40% {\n",
              "      border-color: transparent;\n",
              "      border-right-color: var(--fill-color);\n",
              "      border-top-color: var(--fill-color);\n",
              "    }\n",
              "    60% {\n",
              "      border-color: transparent;\n",
              "      border-right-color: var(--fill-color);\n",
              "    }\n",
              "    80% {\n",
              "      border-color: transparent;\n",
              "      border-right-color: var(--fill-color);\n",
              "      border-bottom-color: var(--fill-color);\n",
              "    }\n",
              "    90% {\n",
              "      border-color: transparent;\n",
              "      border-bottom-color: var(--fill-color);\n",
              "    }\n",
              "  }\n",
              "</style>\n",
              "\n",
              "  <script>\n",
              "    async function quickchart(key) {\n",
              "      const quickchartButtonEl =\n",
              "        document.querySelector('#' + key + ' button');\n",
              "      quickchartButtonEl.disabled = true;  // To prevent multiple clicks.\n",
              "      quickchartButtonEl.classList.add('colab-df-spinner');\n",
              "      try {\n",
              "        const charts = await google.colab.kernel.invokeFunction(\n",
              "            'suggestCharts', [key], {});\n",
              "      } catch (error) {\n",
              "        console.error('Error during call to suggestCharts:', error);\n",
              "      }\n",
              "      quickchartButtonEl.classList.remove('colab-df-spinner');\n",
              "      quickchartButtonEl.classList.add('colab-df-quickchart-complete');\n",
              "    }\n",
              "    (() => {\n",
              "      let quickchartButtonEl =\n",
              "        document.querySelector('#df-3d2c3bd9-4136-4162-ab70-e942495dd359 button');\n",
              "      quickchartButtonEl.style.display =\n",
              "        google.colab.kernel.accessAllowed ? 'block' : 'none';\n",
              "    })();\n",
              "  </script>\n",
              "</div>\n",
              "    </div>\n",
              "  </div>\n"
            ]
          },
          "metadata": {},
          "execution_count": 4
        }
      ]
    },
    {
      "cell_type": "code",
      "source": [
        "class_counts = train_data['Class'].value_counts()\n",
        "class_priors = class_counts/len(train_data)"
      ],
      "metadata": {
        "id": "_z-9EqI7FFUn"
      },
      "execution_count": 5,
      "outputs": []
    },
    {
      "cell_type": "code",
      "source": [
        "class_priors"
      ],
      "metadata": {
        "colab": {
          "base_uri": "https://localhost:8080/"
        },
        "id": "q39N2yOdGUq9",
        "outputId": "c7ea9f34-bf10-4a39-9037-8d4d6f2884e9"
      },
      "execution_count": 6,
      "outputs": [
        {
          "output_type": "execute_result",
          "data": {
            "text/plain": [
              "1    0.466667\n",
              "2    0.333333\n",
              "3    0.200000\n",
              "Name: Class, dtype: float64"
            ]
          },
          "metadata": {},
          "execution_count": 6
        }
      ]
    },
    {
      "cell_type": "code",
      "source": [
        "mean_class_1 = variance_class_1 = 0\n",
        "mean_class_2 = variance_class_2 = 0\n",
        "mean_class_3 = variance_class_3 = 0\n",
        "\n",
        "class_1_data = train_data[train_data['Class'] == 1]\n",
        "class_2_data = train_data[train_data['Class'] == 2]\n",
        "class_3_data = train_data[train_data['Class'] == 3]\n",
        "\n",
        "# Calculate mean and variance for class 1\n",
        "age_values_1 = class_1_data['Age']\n",
        "mean_class_1 = age_values_1.sum() / len(age_values_1)\n",
        "variance_class_1 = ((age_values_1 - mean_class_1) ** 2).sum() / (len(age_values_1) - 1)\n",
        "\n",
        "# Calculate mean and variance for Class 2\n",
        "age_values_2 = class_2_data['Age']\n",
        "mean_class_2 = age_values_2.sum() / len(age_values_2)\n",
        "variance_class_2 = ((age_values_2 - mean_class_2) ** 2).sum() / (len(age_values_2) - 1)\n",
        "\n",
        "# Calculate mean and variance for Class 3\n",
        "age_values_3 = class_3_data['Age']\n",
        "mean_class_3 = age_values_3.sum() / len(age_values_3)\n",
        "variance_class_3 = ((age_values_3 - mean_class_3) ** 2).sum() / (len(age_values_3) - 1)"
      ],
      "metadata": {
        "id": "eFYPB9MBKjwb"
      },
      "execution_count": 7,
      "outputs": []
    },
    {
      "cell_type": "code",
      "source": [
        "print(f\"mean for class 1: {mean_class_1} and variance of class 1: {variance_class_1}\")\n",
        "print(f\"mean for class 2: {mean_class_2} and variance of class 2: {variance_class_2}\")\n",
        "print(f\"mean for class 3: {mean_class_3} and variance of class 3: {variance_class_3}\")"
      ],
      "metadata": {
        "colab": {
          "base_uri": "https://localhost:8080/"
        },
        "id": "VqjL3vCOK4wS",
        "outputId": "e57c77ab-34b2-49d1-8308-d6dabc1870e8"
      },
      "execution_count": 8,
      "outputs": [
        {
          "output_type": "stream",
          "name": "stdout",
          "text": [
            "mean for class 1: 42.990259683238804 and variance of class 1: 18.75646559194468\n",
            "mean for class 2: 54.4918735261012 and variance of class 2: 6.995796503338288\n",
            "mean for class 3: 72.69169401584033 and variance of class 3: 21.108953461910815\n"
          ]
        }
      ]
    },
    {
      "cell_type": "code",
      "source": [
        "x_values = train_data['Age'].values\n",
        "ages_class_1 = train_data[train_data['Class'] == 1]['Age'].values\n",
        "ages_class_2 = train_data[train_data['Class'] == 2]['Age'].values\n",
        "ages_class_3 = train_data[train_data['Class'] == 3]['Age'].values"
      ],
      "metadata": {
        "id": "8lGS7WV1MoyB"
      },
      "execution_count": 9,
      "outputs": []
    },
    {
      "cell_type": "code",
      "source": [
        "ages_class_1"
      ],
      "metadata": {
        "colab": {
          "base_uri": "https://localhost:8080/"
        },
        "id": "Tlu_xq1jNPXJ",
        "outputId": "03f89628-e4b1-4e3d-ed76-2587aff402dc"
      },
      "execution_count": 10,
      "outputs": [
        {
          "output_type": "execute_result",
          "data": {
            "text/plain": [
              "array([47.36379321, 45.3677019 , 43.69469513, 37.91466568, 44.4164028 ,\n",
              "       41.45568166, 50.99938504, 43.13871041, 34.7354901 , 44.41476082,\n",
              "       38.84104434, 37.45236915, 42.43818824, 47.49615211, 35.86829479,\n",
              "       46.55042867, 43.49757265, 38.91146703, 39.52305392, 39.78490351,\n",
              "       39.00311567, 33.4359547 , 46.71083607, 48.59815196, 48.44405505,\n",
              "       38.8483431 , 46.49652696, 47.95650142, 45.9755171 , 39.05903538,\n",
              "       49.9038037 , 46.23155559, 41.5483459 , 51.75091961, 47.30726367,\n",
              "       46.18898082, 39.92233044, 43.55600507, 50.64889975, 44.22561706,\n",
              "       38.13037024, 43.48688281, 51.73719456, 42.8990761 , 43.6098665 ,\n",
              "       37.66343034, 35.61280803, 38.54334195, 43.23831087, 43.10651778,\n",
              "       41.0831054 , 45.54013244, 40.684725  , 48.5102837 , 48.39713101,\n",
              "       40.69174987, 47.31454538, 43.264241  , 41.55040108, 35.97613878,\n",
              "       41.74184339, 41.36286923, 41.01566392, 38.5689562 , 45.77819143,\n",
              "       41.04181715, 43.44146279, 38.87448156, 47.00424377, 39.77187532])"
            ]
          },
          "metadata": {},
          "execution_count": 10
        }
      ]
    },
    {
      "cell_type": "code",
      "source": [
        "ages_class_2"
      ],
      "metadata": {
        "colab": {
          "base_uri": "https://localhost:8080/"
        },
        "id": "Gv05AvXLNToM",
        "outputId": "a5a62485-3c11-4ae8-e88d-da85feeeee7b"
      },
      "execution_count": 11,
      "outputs": [
        {
          "output_type": "execute_result",
          "data": {
            "text/plain": [
              "array([51.3060356 , 54.20338219, 50.11999538, 48.68394392, 55.65753283,\n",
              "       49.92492056, 57.2061942 , 54.99756817, 55.31590194, 56.83991404,\n",
              "       49.27898079, 50.71394888, 56.61497957, 55.98744435, 56.51185936,\n",
              "       53.72159104, 54.56768499, 52.58592061, 51.9967555 , 55.86588445,\n",
              "       52.66282364, 56.22171176, 52.36862612, 55.2468869 , 54.58655996,\n",
              "       54.18903091, 53.96182909, 55.00554422, 55.82730622, 54.20948425,\n",
              "       56.33058374, 58.91359647, 60.5742577 , 60.7128    , 51.39218463,\n",
              "       54.58761671, 55.56235326, 55.72654084, 57.34483077, 50.31932673,\n",
              "       54.64040763, 54.33685024, 52.44908013, 52.95348716, 55.51612483,\n",
              "       53.29981472, 54.4816052 , 54.20007455, 58.48520064, 56.38669892])"
            ]
          },
          "metadata": {},
          "execution_count": 11
        }
      ]
    },
    {
      "cell_type": "code",
      "source": [
        "ages_class_3"
      ],
      "metadata": {
        "colab": {
          "base_uri": "https://localhost:8080/"
        },
        "id": "w4pF4wQSNVhr",
        "outputId": "e3513238-dd91-402b-d679-42b702fa16d8"
      },
      "execution_count": 12,
      "outputs": [
        {
          "output_type": "execute_result",
          "data": {
            "text/plain": [
              "array([76.06265483, 67.00715362, 82.37824312, 71.82701887, 64.58110433,\n",
              "       67.44931722, 70.90604282, 75.45214208, 79.08727759, 61.66791363,\n",
              "       69.68974363, 71.37345276, 71.8629719 , 75.57561621, 77.95511725,\n",
              "       66.08590468, 73.33108309, 75.02473529, 70.49612665, 73.96612536,\n",
              "       74.14262608, 75.67821561, 72.8675027 , 76.24564526, 80.35657398,\n",
              "       72.84162714, 74.74855684, 71.33055539, 68.83323216, 71.92654037])"
            ]
          },
          "metadata": {},
          "execution_count": 12
        }
      ]
    },
    {
      "cell_type": "code",
      "source": [
        "import matplotlib.pyplot as plt\n",
        "\n",
        "# Calculate likelihood for class 1\n",
        "def likelihood_class_1(x):\n",
        "  return (1 / (np.sqrt(2 * np.pi * variance_class_1))) * np.exp(-((x - mean_class_1) ** 2) / (2 * variance_class_1))\n",
        "\n",
        "# Calculate likelihood for class 2\n",
        "def likelihood_class_2(x):\n",
        "  return (1 / (np.sqrt(2 * np.pi * variance_class_2))) * np.exp(-((ages_class_2 - mean_class_2) ** 2) / (2 * variance_class_2))\n",
        "\n",
        "# Calculate likelihood for Class 3\n",
        "def likelihood_class_3(x):\n",
        "  return (1 / (np.sqrt(2 * np.pi * variance_class_3))) * np.exp(-((ages_class_3 - mean_class_3) ** 2) / (2 * variance_class_3))\n",
        "\n",
        "likelihood_1 = likelihood_class_1(age_values_1)\n",
        "likelihood_2 = likelihood_class_2(age_values_2)\n",
        "likelihood_3 = likelihood_class_3(age_values_3)\n",
        "\n",
        "plt.plot(ages_class_1, likelihood_1, label='Class 1 Likelihood', color='blue')\n",
        "plt.plot(ages_class_2, likelihood_2, label='Class 2 Likelihood', color='green')\n",
        "plt.plot(ages_class_3, likelihood_3, label='Class 3 Likelihood', color='red')\n",
        "plt.xlabel('Age (x)')\n",
        "plt.ylabel('Likelihood')\n",
        "plt.legend()\n",
        "plt.title('Likelihood Distributions for Each Class')\n",
        "plt.show()"
      ],
      "metadata": {
        "colab": {
          "base_uri": "https://localhost:8080/",
          "height": 472
        },
        "id": "Lrr5y862Nlej",
        "outputId": "a5609cc0-a76a-4df0-8a58-217b931bcdc6"
      },
      "execution_count": 15,
      "outputs": [
        {
          "output_type": "display_data",
          "data": {
            "text/plain": [
              "<Figure size 640x480 with 1 Axes>"
            ],
            "image/png": "[encoded data removed]"
          },
          "metadata": {}
        }
      ]
    },
    {
      "cell_type": "code",
      "source": [
        "print(len(ages_class_1))\n",
        "print(len(ages_class_2))\n",
        "print(len(ages_class_3))"
      ],
      "metadata": {
        "colab": {
          "base_uri": "https://localhost:8080/"
        },
        "id": "G5ovEkVHQ2zj",
        "outputId": "2aec7caa-b913-4c0f-85c5-2584dd498f6a"
      },
      "execution_count": 16,
      "outputs": [
        {
          "output_type": "stream",
          "name": "stdout",
          "text": [
            "70\n",
            "50\n",
            "30\n"
          ]
        }
      ]
    },
    {
      "cell_type": "code",
      "source": [
        "print(likelihood_1)"
      ],
      "metadata": {
        "colab": {
          "base_uri": "https://localhost:8080/"
        },
        "id": "GaVdXJhqTSWU",
        "outputId": "b3b872a8-fe3b-49a3-de7b-000ff9f82039"
      },
      "execution_count": 18,
      "outputs": [
        {
          "output_type": "stream",
          "name": "stdout",
          "text": [
            "0     0.055321\n",
            "1     0.079231\n",
            "2     0.090905\n",
            "3     0.046354\n",
            "4     0.087255\n",
            "        ...   \n",
            "65    0.083250\n",
            "66    0.091617\n",
            "67    0.058644\n",
            "68    0.059952\n",
            "69    0.069890\n",
            "Name: Age, Length: 70, dtype: float64\n"
          ]
        }
      ]
    },
    {
      "cell_type": "code",
      "source": [
        "print(class_priors[2])"
      ],
      "metadata": {
        "colab": {
          "base_uri": "https://localhost:8080/"
        },
        "id": "nN5PgCEcU4n1",
        "outputId": "5498ff65-a1ce-4c8f-9e1a-afc58dda0358"
      },
      "execution_count": null,
      "outputs": [
        {
          "output_type": "stream",
          "name": "stdout",
          "text": [
            "0.3333333333333333\n"
          ]
        }
      ]
    },
    {
      "cell_type": "code",
      "source": [
        "evidence_normalization_class_1 = []\n",
        "for likelihood in likelihood_class_1:\n",
        "  evidence = likelihood*class_priors[1]\n",
        "  print(f\"evidence of {likelihood} is {evidence}\")\n",
        "  evidence_normalization_class_1.append(evidence)\n",
        "  likelihood = likelihood+1"
      ],
      "metadata": {
        "colab": {
          "base_uri": "https://localhost:8080/"
        },
        "id": "z8uFWfLNWkY2",
        "outputId": "fa39155c-f483-4de7-add2-bf9cc657de82"
      },
      "execution_count": null,
      "outputs": [
        {
          "output_type": "stream",
          "name": "stdout",
          "text": [
            "evidence of 0.05532078884316314 is 0.025816368126809465\n",
            "evidence of 0.07923144612835331 is 0.036974674859898214\n",
            "evidence of 0.09090538712452297 is 0.042422513991444054\n",
            "evidence of 0.04635396532938364 is 0.0216318504870457\n",
            "evidence of 0.08725451153032797 is 0.04071877204748638\n",
            "evidence of 0.0865109508134571 is 0.04037177704627998\n",
            "evidence of 0.01666106840392135 is 0.007775165255163296\n",
            "evidence of 0.09206179315222623 is 0.04296217013770558\n",
            "evidence of 0.014977882866023239 is 0.006989678670810845\n",
            "evidence of 0.08726539944249725 is 0.04072385307316539\n",
            "evidence of 0.05821323456490977 is 0.027166176130291226\n",
            "evidence of 0.040670779556182264 is 0.01897969712621839\n",
            "evidence of 0.09137050663216931 is 0.042639569761679014\n",
            "evidence of 0.05361447071989654 is 0.02502008633595172\n",
            "evidence of 0.023829321925058006 is 0.011120350231693736\n",
            "evidence of 0.06570461998762674 is 0.03066215599422581\n",
            "evidence of 0.09148607217222511 is 0.042693500347038386\n",
            "evidence of 0.059119397866483986 is 0.027589052337692526\n",
            "evidence of 0.06685888706225299 is 0.03120081396238473\n",
            "evidence of 0.07004657490250091 is 0.03268840162116709\n",
            "evidence of 0.06029596306931005 is 0.02813811609901136\n",
            "evidence of 0.008081898196717943 is 0.0037715524918017066\n",
            "evidence of 0.06369056061906822 is 0.029722261622231835\n",
            "evidence of 0.039833612078809755 is 0.01858901897011122\n",
            "evidence of 0.04168538806043397 is 0.019453181094869185\n",
            "evidence of 0.05830721858519351 is 0.027210035339756973\n",
            "evidence of 0.06637515985926988 is 0.03097507460099261\n",
            "evidence of 0.047730917171037376 is 0.022274428013150775\n",
            "evidence of 0.0726375801533327 is 0.03389753740488859\n",
            "evidence of 0.0610118979295589 is 0.02847221903379415\n",
            "evidence of 0.025761928470748357 is 0.012022233286349233\n",
            "evidence of 0.06961527977158737 is 0.0324871305600741\n",
            "evidence of 0.08714936793876657 is 0.040669705038091065\n",
            "evidence of 0.011906787994812837 is 0.005556501064245991\n",
            "evidence of 0.056050038594183754 is 0.02615668467728575\n",
            "evidence of 0.0701259623031365 is 0.03272544907479703\n",
            "evidence of 0.07167501888296456 is 0.03344834214538346\n",
            "evidence of 0.09133328452680013 is 0.04262219944584006\n",
            "evidence of 0.0192875443906094 is 0.009000854048951052\n",
            "evidence of 0.08844362139198207 is 0.041273689982924966\n",
            "evidence of 0.04907929468339296 is 0.02290367085225005\n",
            "evidence of 0.09151224878267811 is 0.04270571609858312\n",
            "evidence of 0.011983302855581397 is 0.0055922079992713185\n",
            "evidence of 0.09209547782871526 is 0.04297788965340046\n",
            "evidence of 0.09117797292788793 is 0.042549720699681035\n",
            "evidence of 0.0432344960042152 is 0.020176098135300427\n",
            "evidence of 0.021588626981296242 is 0.01007469259127158\n",
            "evidence of 0.05437442243993783 is 0.025374730471970988\n",
            "evidence of 0.09196492600481357 is 0.042916965468913\n",
            "evidence of 0.09208270885896054 is 0.042971930800848254\n",
            "evidence of 0.08360371184647655 is 0.03901506552835572\n",
            "evidence of 0.07745712479203729 is 0.03614665823628407\n",
            "evidence of 0.07994588275963813 is 0.03730807862116446\n",
            "evidence of 0.040885542238990755 is 0.01907991971152902\n",
            "evidence of 0.04225556293432308 is 0.019719262702684103\n",
            "evidence of 0.08001484004947683 is 0.03734025868975585\n",
            "evidence of 0.055956100337343516 is 0.026112846824093643\n",
            "evidence of 0.0919317468725401 is 0.04290148187385205\n",
            "evidence of 0.08716312820682118 is 0.04067612649651655\n",
            "evidence of 0.02481767102609766 is 0.011581579812178909\n",
            "evidence of 0.08836718208387313 is 0.041238018305807464\n",
            "evidence of 0.08583680151653764 is 0.0400571740410509\n",
            "evidence of 0.08302229890503435 is 0.03874373948901603\n",
            "evidence of 0.05470467587760263 is 0.02552884874288123\n",
            "evidence of 0.07487728496950431 is 0.03494273298576868\n",
            "evidence of 0.08324968070173862 is 0.03884985099414469\n",
            "evidence of 0.09161732961351716 is 0.04275475381964135\n",
            "evidence of 0.05864367606987731 is 0.027367048832609413\n",
            "evidence of 0.05995177197884163 is 0.027977493590126093\n",
            "evidence of 0.06989047822573208 is 0.032615556505341634\n"
          ]
        }
      ]
    },
    {
      "cell_type": "code",
      "source": [
        "unnormalized_posterior_class_1 = likelihood_1 * class_priors[1]\n",
        "unnormalized_posterior_class_2 = likelihood_2 * class_priors[2]\n",
        "unnormalized_posterior_class_3 = likelihood_3 * class_priors[3]\n",
        "\n",
        "all_unnormalized_posteriors = np.concatenate(\n",
        "    [unnormalized_posterior_class_1, unnormalized_posterior_class_2, unnormalized_posterior_class_3],\n",
        "    axis=0\n",
        ")\n",
        "posterior_1 = np.sum(unnormalized_posterior_class_1)/all_unnormalized_posteriors\n",
        "posterior_2 = np.sum(unnormalized_posterior_class_2)/all_unnormalized_posteriors\n",
        "posterior_3 = np.sum(unnormalized_posterior_class_3)/all_unnormalized_posteriors\n",
        "#evidence_class_2 = unnormalized_posterior_class_2\n",
        "#evidence_class_3 = unnormalized_posterior_class_3\n",
        "\n",
        "# Calculate the normalized posterior probabilities for each class\n",
        "#posterior_class_1 = unnormalized_posterior_class_1 / evidence_class_1\n",
        "#posterior_class_2 = unnormalized_posterior_class_2 / evidence_class_2\n",
        "#posterior_class_3 = unnormalized_posterior_class_3 / evidence_class_3"
      ],
      "metadata": {
        "id": "Edi9bcK_XLrq"
      },
      "execution_count": 52,
      "outputs": []
    },
    {
      "cell_type": "code",
      "source": [
        "print(unnormalized_posterior_class_1.shape)"
      ],
      "metadata": {
        "colab": {
          "base_uri": "https://localhost:8080/"
        },
        "id": "TfvKkb47UanK",
        "outputId": "d6797679-6848-4498-d23c-7fd4e65e2ac7"
      },
      "execution_count": 45,
      "outputs": [
        {
          "output_type": "stream",
          "name": "stdout",
          "text": [
            "(70,)\n"
          ]
        }
      ]
    },
    {
      "cell_type": "code",
      "source": [
        "posterior_1 = unnormalized_posterior_class_1/"
      ],
      "metadata": {
        "id": "ewsVD1R2UXf-"
      },
      "execution_count": null,
      "outputs": []
    },
    {
      "cell_type": "code",
      "source": [
        "print(all_unnormalized_posteriors)"
      ],
      "metadata": {
        "colab": {
          "base_uri": "https://localhost:8080/"
        },
        "id": "Ahf9VtaIOcnK",
        "outputId": "d2ddc1f5-f0b1-4d24-a1f6-075db12b2d0f"
      },
      "execution_count": 31,
      "outputs": [
        {
          "output_type": "stream",
          "name": "stdout",
          "text": [
            "[0.02581637 0.03697467 0.04242251 0.02163185 0.04071877 0.04037178\n",
            " 0.00777517 0.04296217 0.00698968 0.04072385 0.02716618 0.0189797\n",
            " 0.04263957 0.02502009 0.01112035 0.03066216 0.0426935  0.02758905\n",
            " 0.03120081 0.0326884  0.02813812 0.00377155 0.02972226 0.01858902\n",
            " 0.01945318 0.02721004 0.03097507 0.02227443 0.03389754 0.02847222\n",
            " 0.01202223 0.03248713 0.04066971 0.0055565  0.02615668 0.03272545\n",
            " 0.03344834 0.0426222  0.00900085 0.04127369 0.02290367 0.04270572\n",
            " 0.00559221 0.04297789 0.04254972 0.0201761  0.01007469 0.02537473\n",
            " 0.04291697 0.04297193 0.03901507 0.03614666 0.03730808 0.01907992\n",
            " 0.01971926 0.03734026 0.02611285 0.04290148 0.04067613 0.01158158\n",
            " 0.04123802 0.04005717 0.03874374 0.02552885 0.03494273 0.03884985\n",
            " 0.04275475 0.02736705 0.02797749 0.03261556 0.02434059 0.04997892\n",
            " 0.01282623 0.00451168 0.04562414 0.01132332 0.02969507 0.04936652\n",
            " 0.04789538 0.0339031  0.00720925 0.018128   0.03642977 0.04284921\n",
            " 0.03755932 0.0481896  0.05025645 0.03878053 0.03222027 0.04393091\n",
            " 0.03958488 0.04059653 0.03642821 0.04826988 0.05024489 0.04994862\n",
            " 0.04927762 0.04933784 0.04426033 0.04999137 0.03948477 0.01243065\n",
            " 0.0035731  0.00316328 0.02530107 0.05024417 0.04632346 0.0450872\n",
            " 0.02810134 0.01448655 0.05019788 0.05019082 0.0373114  0.04245323\n",
            " 0.04664518 0.04542163 0.05027672 0.04997207 0.01608389 0.03889793\n",
            " 0.0132682  0.00807781 0.00188143 0.01706143 0.00365605 0.00905722\n",
            " 0.01610298 0.01449837 0.00659073 0.00097633 0.01402825 0.01666596\n",
            " 0.01708606 0.014261   0.00900991 0.0061776  0.01719892 0.0152656\n",
            " 0.01549238 0.01671086 0.01652154 0.01405899 0.01735357 0.01287586\n",
            " 0.0043186  0.01735703 0.01571035 0.01662065 0.01220554 0.01712711]\n"
          ]
        }
      ]
    },
    {
      "cell_type": "code",
      "source": [
        "len(posterior_1), len(posterior_2), len(posterior_3)"
      ],
      "metadata": {
        "colab": {
          "base_uri": "https://localhost:8080/"
        },
        "id": "voGXc1YezYL8",
        "outputId": "5068bb51-fa75-4d47-e993-5d4dc2522331"
      },
      "execution_count": 38,
      "outputs": [
        {
          "output_type": "execute_result",
          "data": {
            "text/plain": [
              "(150, 150, 150)"
            ]
          },
          "metadata": {},
          "execution_count": 38
        }
      ]
    },
    {
      "cell_type": "code",
      "source": [
        "import matplotlib.pyplot as plt\n",
        "\n",
        "# Plot the likelihoods\n",
        "#plt.plot(age_values_1, likelihood_class_1, label='Class 1 Likelihood', color='blue')\n",
        "#plt.plot(age_values_2, likelihood_class_2, label='Class 2 Likelihood', color='green')\n",
        "#plt.plot(age_values_3, likelihood_class_3, label='Class 3 Likelihood', color='red')\n",
        "\n",
        "# Plot the posteriors\n",
        "plt.plot(x_values, posterior_1, label='Class 1 Posterior', linestyle='--', color='blue')\n",
        "plt.plot(x_values, posterior_2, label='Class 2 Posterior', linestyle='--', color='green')\n",
        "plt.plot(x_values, posterior_3, label='Class 3 Posterior', linestyle='--', color='red')\n",
        "\n",
        "# Set labels and title\n",
        "plt.xlabel('Age (x)')\n",
        "plt.ylabel('Probability')\n",
        "plt.legend()\n",
        "plt.title('Likelihoods and Posteriors for Each Class')\n",
        "\n",
        "# Show the plot\n",
        "plt.show()"
      ],
      "metadata": {
        "colab": {
          "base_uri": "https://localhost:8080/",
          "height": 472
        },
        "id": "2BMMeJgUah7J",
        "outputId": "b9891b16-1b7a-4872-d8a5-a1bddc4e3c57"
      },
      "execution_count": 55,
      "outputs": [
        {
          "output_type": "display_data",
          "data": {
            "text/plain": [
              "<Figure size 640x480 with 1 Axes>"
            ],
            "image/png": "[encoded data removed]"
          },
          "metadata": {}
        }
      ]
    },
    {
      "cell_type": "code",
      "source": [
        "len(posterior_1), len(posterior_2), len(posterior_3)"
      ],
      "metadata": {
        "colab": {
          "base_uri": "https://localhost:8080/"
        },
        "id": "unGBBBbOFOkh",
        "outputId": "003eb4ed-b4c9-4687-d42a-4f7b9b2e6f1c"
      },
      "execution_count": 23,
      "outputs": [
        {
          "output_type": "execute_result",
          "data": {
            "text/plain": [
              "(150, 150, 150)"
            ]
          },
          "metadata": {},
          "execution_count": 23
        }
      ]
    },
    {
      "cell_type": "code",
      "source": [
        "posterior_1"
      ],
      "metadata": {
        "colab": {
          "base_uri": "https://localhost:8080/"
        },
        "id": "MIUT78DUUf-d",
        "outputId": "f126ed6f-44a5-4826-b58a-f4b4b76cded1"
      },
      "execution_count": 24,
      "outputs": [
        {
          "output_type": "execute_result",
          "data": {
            "text/plain": [
              "array([0.01245475, 0.01783792, 0.02046616, 0.01043599, 0.01964421,\n",
              "       0.01947681, 0.00375102, 0.02072651, 0.00337207, 0.01964666,\n",
              "       0.01310595, 0.00915649, 0.02057087, 0.0120706 , 0.00536486,\n",
              "       0.01479253, 0.02059689, 0.01330996, 0.0150524 , 0.01577007,\n",
              "       0.01357485, 0.00181953, 0.01433909, 0.00896802, 0.00938492,\n",
              "       0.01312711, 0.0149435 , 0.01074599, 0.0163534 , 0.01373603,\n",
              "       0.00579996, 0.01567297, 0.01962054, 0.00268066, 0.01261893,\n",
              "       0.01578794, 0.01613669, 0.02056249, 0.00434234, 0.01991192,\n",
              "       0.01104956, 0.02060278, 0.00269788, 0.02073409, 0.02052753,\n",
              "       0.00973368, 0.0048604 , 0.01224169, 0.0207047 , 0.02073121,\n",
              "       0.01882228, 0.01743846, 0.01799877, 0.00920484, 0.00951329,\n",
              "       0.01801429, 0.01259778, 0.02069723, 0.01962364, 0.00558737,\n",
              "       0.01989471, 0.01932503, 0.01869138, 0.01231604, 0.01685764,\n",
              "       0.01874257, 0.02062644, 0.01320285, 0.01349736, 0.01573493,\n",
              "       0.01174278, 0.02411164, 0.00618784, 0.0021766 , 0.02201074,\n",
              "       0.00546278, 0.01432597, 0.0238162 , 0.02310646, 0.01635608,\n",
              "       0.00347801, 0.0087456 , 0.01757504, 0.02067201, 0.01811998,\n",
              "       0.02324841, 0.02424553, 0.01870913, 0.01554423, 0.02119386,\n",
              "       0.01909718, 0.01958524, 0.01757429, 0.02328714, 0.02423996,\n",
              "       0.02409702, 0.02377331, 0.02380236, 0.02135279, 0.02411764,\n",
              "       0.01904888, 0.005997  , 0.00172379, 0.00152608, 0.01220615,\n",
              "       0.02423961, 0.02234812, 0.0217517 , 0.0135571 , 0.00698884,\n",
              "       0.02421728, 0.02421387, 0.01800037, 0.02048097, 0.02250332,\n",
              "       0.02191304, 0.02425531, 0.02410833, 0.00775945, 0.01876577,\n",
              "       0.00640106, 0.00389703, 0.00090767, 0.00823105, 0.00176381,\n",
              "       0.00436953, 0.00776866, 0.00699454, 0.00317961, 0.00047102,\n",
              "       0.00676774, 0.00804026, 0.00824293, 0.00688002, 0.0043467 ,\n",
              "       0.0029803 , 0.00829738, 0.00736468, 0.00747409, 0.00806192,\n",
              "       0.00797059, 0.00678256, 0.00837199, 0.00621178, 0.00208345,\n",
              "       0.00837366, 0.00757924, 0.0080184 , 0.0058884 , 0.00826274])"
            ]
          },
          "metadata": {},
          "execution_count": 24
        }
      ]
    },
    {
      "cell_type": "code",
      "source": [],
      "metadata": {
        "id": "1g8AjsZ2pe18"
      },
      "execution_count": null,
      "outputs": []
    },
    {
      "cell_type": "code",
      "source": [
        "from sklearn.metrics import confusion_matrix\n",
        "\n",
        "true_labels_train = train_data['Class'].values\n",
        "n_samples = len(true_labels_train)\n",
        "predicted_classes = np.zeros(n_samples, dtype=int)\n",
        "\n",
        "for i in range(len(train_data['Age'])):\n",
        "\n",
        "    posterior_1_p = posterior_1[i]\n",
        "    posterior_2_p = posterior_2[i]\n",
        "    posterior_3_p = posterior_3[i]\n",
        "\n",
        "    if posterior_1_p >= posterior_2_p and posterior_1_p >= posterior_3_p:\n",
        "        predicted_classes[i] = 1\n",
        "    elif posterior_2_p >= posterior_1_p and posterior_2_p >= posterior_3_p:\n",
        "        predicted_classes[i] = 2\n",
        "    else:\n",
        "        predicted_classes[i] = 3\n",
        "    print(f\"Age is : {train_data['Age'][i]}: {predicted_classes[i]}\")\n",
        "cm = confusion_matrix(true_labels_train, predicted_classes)\n",
        "\n",
        "print(\"Confusion Matrix (Training Data):\\n\", cm)\n"
      ],
      "metadata": {
        "colab": {
          "base_uri": "https://localhost:8080/"
        },
        "id": "idTvLyMOVSbY",
        "outputId": "4be24796-6570-4b6c-c783-4f5ba184b9de"
      },
      "execution_count": 41,
      "outputs": [
        {
          "output_type": "stream",
          "name": "stdout",
          "text": [
            "Age is : 47.36379320752064: 1\n",
            "Age is : 45.36770190365562: 1\n",
            "Age is : 43.69469512976703: 1\n",
            "Age is : 37.914665679336856: 1\n",
            "Age is : 44.41640280141428: 1\n",
            "Age is : 41.45568165624207: 1\n",
            "Age is : 50.99938503696669: 1\n",
            "Age is : 43.13871040742549: 1\n",
            "Age is : 34.73549009993056: 1\n",
            "Age is : 44.41476082241133: 1\n",
            "Age is : 38.841044342711896: 1\n",
            "Age is : 37.45236914836837: 1\n",
            "Age is : 42.438188243052295: 1\n",
            "Age is : 47.49615211043522: 1\n",
            "Age is : 35.86829479071345: 1\n",
            "Age is : 46.55042866864656: 1\n",
            "Age is : 43.49757265267926: 1\n",
            "Age is : 38.91146702799456: 1\n",
            "Age is : 39.5230539227075: 1\n",
            "Age is : 39.78490351029993: 1\n",
            "Age is : 39.00311567258014: 1\n",
            "Age is : 33.43595469770029: 1\n",
            "Age is : 46.71083606768695: 1\n",
            "Age is : 48.59815196072186: 1\n",
            "Age is : 48.444055052706126: 1\n",
            "Age is : 38.84834310330488: 1\n",
            "Age is : 46.4965269575612: 1\n",
            "Age is : 47.9565014185293: 1\n",
            "Age is : 45.97551710032414: 1\n",
            "Age is : 39.05903538181616: 1\n",
            "Age is : 49.90380369786614: 1\n",
            "Age is : 46.23155559313645: 1\n",
            "Age is : 41.548345902037134: 1\n",
            "Age is : 51.7509196125349: 1\n",
            "Age is : 47.30726367322928: 1\n",
            "Age is : 46.1889808226158: 1\n",
            "Age is : 39.922330444814506: 1\n",
            "Age is : 43.55600506550115: 1\n",
            "Age is : 50.64889975211387: 1\n",
            "Age is : 44.22561706183592: 1\n",
            "Age is : 38.13037024003296: 1\n",
            "Age is : 43.48688281196977: 1\n",
            "Age is : 51.737194560956304: 1\n",
            "Age is : 42.89907610263149: 1\n",
            "Age is : 43.60986650103458: 1\n",
            "Age is : 37.66343034283272: 1\n",
            "Age is : 35.61280802555227: 1\n",
            "Age is : 38.54334195088419: 1\n",
            "Age is : 43.23831087422255: 1\n",
            "Age is : 43.106517784388615: 1\n",
            "Age is : 41.083105398963504: 1\n",
            "Age is : 45.54013244432915: 1\n",
            "Age is : 40.68472499719965: 1\n",
            "Age is : 48.51028369851516: 1\n",
            "Age is : 48.39713101452582: 1\n",
            "Age is : 40.69174986792836: 1\n",
            "Age is : 47.314545380294994: 1\n",
            "Age is : 43.264240998935: 1\n",
            "Age is : 41.55040108122831: 1\n",
            "Age is : 35.976138783981675: 1\n",
            "Age is : 41.74184339387742: 1\n",
            "Age is : 41.36286922777524: 1\n",
            "Age is : 41.01566391946993: 1\n",
            "Age is : 38.56895619903993: 1\n",
            "Age is : 45.77819143308846: 1\n",
            "Age is : 41.04181715020686: 1\n",
            "Age is : 43.44146279214513: 1\n",
            "Age is : 38.8744815645536: 1\n",
            "Age is : 47.00424376600087: 1\n",
            "Age is : 39.77187531925564: 1\n",
            "Age is : 51.30603560312623: 1\n",
            "Age is : 54.20338219210677: 1\n",
            "Age is : 50.11999537519663: 1\n",
            "Age is : 48.68394392463303: 1\n",
            "Age is : 55.65753282895637: 1\n",
            "Age is : 49.92492056026933: 1\n",
            "Age is : 57.206194204740605: 1\n",
            "Age is : 54.99756816637618: 1\n",
            "Age is : 55.31590194272707: 1\n",
            "Age is : 56.83991403981776: 1\n",
            "Age is : 49.27898079373787: 1\n",
            "Age is : 50.71394888068276: 1\n",
            "Age is : 56.61497956737257: 1\n",
            "Age is : 55.98744435338028: 1\n",
            "Age is : 56.51185935628467: 1\n",
            "Age is : 53.72159103527542: 1\n",
            "Age is : 54.56768498596989: 1\n",
            "Age is : 52.58592060573535: 1\n",
            "Age is : 51.99675550098944: 1\n",
            "Age is : 55.86588444980808: 1\n",
            "Age is : 52.66282363788408: 1\n",
            "Age is : 56.22171175537784: 1\n",
            "Age is : 52.36862611716662: 1\n",
            "Age is : 55.24688689535652: 1\n",
            "Age is : 54.58655996308283: 1\n",
            "Age is : 54.18903090622605: 1\n",
            "Age is : 53.96182908550213: 1\n",
            "Age is : 55.00554421656891: 1\n",
            "Age is : 55.82730622059145: 1\n",
            "Age is : 54.209484252768526: 1\n",
            "Age is : 56.33058373958096: 1\n",
            "Age is : 58.91359647044353: 1\n",
            "Age is : 60.57425770459496: 1\n",
            "Age is : 60.71280000313332: 1\n",
            "Age is : 51.39218463060244: 1\n",
            "Age is : 54.58761671053959: 1\n",
            "Age is : 55.562353259409846: 1\n",
            "Age is : 55.7265408439825: 1\n",
            "Age is : 57.34483076585694: 1\n",
            "Age is : 50.31932672619405: 1\n",
            "Age is : 54.64040762753089: 1\n",
            "Age is : 54.3368502402093: 1\n",
            "Age is : 52.449080132214114: 1\n",
            "Age is : 52.95348716276822: 1\n",
            "Age is : 55.516124833670645: 1\n",
            "Age is : 53.29981471764199: 1\n",
            "Age is : 54.48160520030327: 1\n",
            "Age is : 54.20007455387936: 1\n",
            "Age is : 58.48520064166631: 1\n",
            "Age is : 56.38669892312655: 1\n",
            "Age is : 76.06265482986825: 1\n",
            "Age is : 67.0071536190746: 1\n",
            "Age is : 82.37824311861296: 1\n",
            "Age is : 71.827018866747: 1\n",
            "Age is : 64.5811043338413: 1\n",
            "Age is : 67.44931721825333: 1\n",
            "Age is : 70.90604282028065: 1\n",
            "Age is : 75.4521420833609: 1\n",
            "Age is : 79.0872775940643: 1\n",
            "Age is : 61.667913629725305: 1\n",
            "Age is : 69.68974362818885: 1\n",
            "Age is : 71.37345276115867: 1\n",
            "Age is : 71.86297190366399: 1\n",
            "Age is : 75.57561620533926: 1\n",
            "Age is : 77.95511725339605: 1\n",
            "Age is : 66.08590468305148: 1\n",
            "Age is : 73.33108309135974: 1\n",
            "Age is : 75.02473529405663: 1\n",
            "Age is : 70.49612664874934: 1\n",
            "Age is : 73.96612536189491: 1\n",
            "Age is : 74.1426260819837: 1\n",
            "Age is : 75.67821560950688: 1\n",
            "Age is : 72.8675026993912: 1\n",
            "Age is : 76.24564525525301: 1\n",
            "Age is : 80.35657398088998: 1\n",
            "Age is : 72.84162713737979: 1\n",
            "Age is : 74.74855684139219: 1\n",
            "Age is : 71.33055539331863: 1\n",
            "Age is : 68.8332321588995: 1\n",
            "Age is : 71.92654037250716: 1\n",
            "Confusion Matrix (Training Data):\n",
            " [[70  0  0]\n",
            " [50  0  0]\n",
            " [30  0  0]]\n"
          ]
        }
      ]
    },
    {
      "cell_type": "code",
      "source": [],
      "metadata": {
        "id": "mRA9rqXF2G0r"
      },
      "execution_count": null,
      "outputs": []
    }
  ]
}